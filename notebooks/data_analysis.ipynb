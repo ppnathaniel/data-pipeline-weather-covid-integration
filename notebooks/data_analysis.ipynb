{
 "cells": [
  {
   "cell_type": "code",
   "execution_count": null,
   "metadata": {},
   "outputs": [],
   "source": [
    "import pandas as pd\n",
    "\n",
    "df = pd.read_parquet('data/combined_data.parquet')\n",
    "print(df.describe())\n",
    "\n",
    "import matplotlib.pyplot as plt\n",
    "\n",
    "plt.scatter(df['temp'], df['cases'])\n",
    "plt.xlabel('Temperature')\n",
    "plt.ylabel('COVID-19 Cases')\n",
    "plt.title('Impact of Temperature on COVID-19 Cases')\n",
    "plt.show()\n"
   ]
  }
 ],
 "metadata": {
  "language_info": {
   "name": "python"
  }
 },
 "nbformat": 4,
 "nbformat_minor": 2
}
